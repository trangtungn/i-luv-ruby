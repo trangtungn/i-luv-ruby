{
 "cells": [
  {
   "cell_type": "code",
   "execution_count": 7,
   "id": "7a135bfe-4d67-4bbf-b1ed-b5b906c9470c",
   "metadata": {},
   "outputs": [
    {
     "data": {
      "text/plain": [
       "1"
      ]
     },
     "execution_count": 7,
     "metadata": {},
     "output_type": "execute_result"
    }
   ],
   "source": [
    "a = 1"
   ]
  },
  {
   "cell_type": "code",
   "execution_count": 8,
   "id": "71c6f970-cea8-4184-a1dc-1328c324825a",
   "metadata": {},
   "outputs": [
    {
     "data": {
      "text/plain": [
       "2"
      ]
     },
     "execution_count": 8,
     "metadata": {},
     "output_type": "execute_result"
    }
   ],
   "source": [
    "b = 2"
   ]
  },
  {
   "cell_type": "code",
   "execution_count": 9,
   "id": "db14e792-efbc-4900-9685-2daf66e33bc3",
   "metadata": {},
   "outputs": [
    {
     "data": {
      "text/plain": [
       "3"
      ]
     },
     "execution_count": 9,
     "metadata": {},
     "output_type": "execute_result"
    }
   ],
   "source": [
    "a+b"
   ]
  },
  {
   "cell_type": "code",
   "execution_count": 13,
   "id": "8658b62a-4862-44e2-983e-46e7ac2dd3c5",
   "metadata": {},
   "outputs": [
    {
     "name": "stdout",
     "output_type": "stream",
     "text": [
      "Hello I am Zigor, a automated Robot that says Hello\n",
      "Please enter your name:Hello   \"ip\": \"127.0.0.1\",\n"
     ]
    }
   ],
   "source": [
    "puts \"Hello I am Zigor, a automated Robot that says Hello\"\n",
    "print \"Please enter your name:\"\n",
    "name = gets\n",
    "puts \"Hello #{name}\""
   ]
  },
  {
   "cell_type": "code",
   "execution_count": 15,
   "id": "53cdd8b2-83ea-47c3-aeb1-682e9b7e0251",
   "metadata": {},
   "outputs": [
    {
     "name": "stdout",
     "output_type": "stream",
     "text": [
      "Who are you?\n"
     ]
    }
   ],
   "source": [
    "class Zigor\n",
    "  def self.===(string)\n",
    "    string.downcase == \"zigor\"\n",
    "  end\n",
    "end\n",
    "\n",
    "name = \"Katherin\"\n",
    "\n",
    "case name\n",
    "when Zigor\n",
    "  puts \"Nice to meet you Zigor!!!\"\n",
    "else\n",
    "  puts \"Who are you?\"\n",
    "end"
   ]
  },
  {
   "cell_type": "code",
   "execution_count": 16,
   "id": "a82db147-9706-472d-8f99-9614a0b27445",
   "metadata": {},
   "outputs": [
    {
     "name": "stdout",
     "output_type": "stream",
     "text": [
      "Hello, I am Zigor....\n",
      "I count down for rockets\n",
      "10\n",
      "9\n",
      "8\n",
      "7\n",
      "6\n",
      "5\n",
      "4\n",
      "3\n",
      "2\n",
      "1\n",
      "\"Blast Off!\"\n"
     ]
    },
    {
     "data": {
      "text/plain": [
       "\"Blast Off!\""
      ]
     },
     "execution_count": 16,
     "metadata": {},
     "output_type": "execute_result"
    }
   ],
   "source": [
    "# Zigor tells about itself\n",
    "puts \"Hello, I am Zigor....\"\n",
    "puts \"I count down for rockets\"\n",
    "# Count down starts\n",
    "10.downto 1 do |num|\n",
    "  p num\n",
    "end\n",
    "p \"Blast Off!\""
   ]
  },
  {
   "cell_type": "code",
   "execution_count": 18,
   "id": "43f4991e-e85e-4006-8aa3-f26bc7e8c648",
   "metadata": {},
   "outputs": [
    {
     "name": "stdout",
     "output_type": "stream",
     "text": [
      "Hi, I am Zigor\n",
      "I am going to tell what I know\n",
      "0. I know something\n",
      "1. I know something\n",
      "2. I know something\n",
      "3. I know something\n",
      "4. I know something\n",
      "5. I know something\n",
      "6. I know something\n"
     ]
    },
    {
     "data": {
      "text/plain": [
       "7"
      ]
     },
     "execution_count": 18,
     "metadata": {},
     "output_type": "execute_result"
    }
   ],
   "source": [
    "puts \"Hi, I am Zigor\"\n",
    "puts \"I am going to tell what I know\"\n",
    "7.times { |i|\n",
    "  puts \"#{i}. I know something\"\n",
    "}"
   ]
  },
  {
   "cell_type": "code",
   "execution_count": 19,
   "id": "1ae2d4cc-a54f-42d2-9610-7a09f494fa63",
   "metadata": {},
   "outputs": [
    {
     "name": "stdout",
     "output_type": "stream",
     "text": [
      "17, 18, 19, 20, 21, 22, 23, "
     ]
    },
    {
     "data": {
      "text/plain": [
       "17"
      ]
     },
     "execution_count": 19,
     "metadata": {},
     "output_type": "execute_result"
    }
   ],
   "source": [
    "# upto is downto in reverse\n",
    "17.upto 23 do |i|\n",
    "  print \"#{i}, \"\n",
    "end"
   ]
  },
  {
   "cell_type": "code",
   "execution_count": 20,
   "id": "4f6d9d99-adae-46fd-a654-1fa3d950a42e",
   "metadata": {},
   "outputs": [
    {
     "name": "stdout",
     "output_type": "stream",
     "text": [
      "1, 2, 3, 4, 5, 6, 7, 8, 9, 10, "
     ]
    },
    {
     "data": {
      "text/plain": [
       "1"
      ]
     },
     "execution_count": 20,
     "metadata": {},
     "output_type": "execute_result"
    }
   ],
   "source": [
    "# explains step function: count from 1 to 10\n",
    "1.step 10 do |i|\n",
    "  print \"#{i}, \"\n",
    "end"
   ]
  },
  {
   "cell_type": "code",
   "execution_count": 28,
   "id": "c97a51e0-01c8-4871-8613-6cbf967fc82d",
   "metadata": {},
   "outputs": [
    {
     "data": {
      "text/plain": [
       "10"
      ]
     },
     "execution_count": 28,
     "metadata": {},
     "output_type": "execute_result"
    }
   ],
   "source": [
    "# explains step function 10 > 1 => cannot increase\n",
    "10.step 1 do |i|\n",
    "  print \"#{i}, \"\n",
    "end"
   ]
  },
  {
   "cell_type": "code",
   "execution_count": 22,
   "id": "92ea20e6-2ec6-4ddb-a432-0e2f3cd58f7e",
   "metadata": {},
   "outputs": [
    {
     "name": "stdout",
     "output_type": "stream",
     "text": [
      "10, 9, 8, 7, 6, 5, 4, 3, 2, 1, "
     ]
    },
    {
     "data": {
      "text/plain": [
       "10"
      ]
     },
     "execution_count": 22,
     "metadata": {},
     "output_type": "execute_result"
    }
   ],
   "source": [
    "# explains step function\n",
    "# this time its stepping down from 10 to 1, decrease by 1\n",
    "10.step 1, -1 do |i|\n",
    "  print \"#{i}, \"\n",
    "end"
   ]
  },
  {
   "cell_type": "code",
   "execution_count": 29,
   "id": "3c5c4499-aa79-451d-97a1-6a1d96723e7d",
   "metadata": {},
   "outputs": [
    {
     "name": "stdout",
     "output_type": "stream",
     "text": [
      "\"Even numbers between 10 and 1:\"\n",
      "10, 8, 6, 4, 2, "
     ]
    },
    {
     "data": {
      "text/plain": [
       "10"
      ]
     },
     "execution_count": 29,
     "metadata": {},
     "output_type": "execute_result"
    }
   ],
   "source": [
    "# explains step function\n",
    "# this time its stepping down from 10 to 1, decrease by 2\n",
    "p \"Even numbers between 10 and 1:\"\n",
    "10.step 1, -2 do |i|\n",
    "  print \"#{i}, \"\n",
    "end"
   ]
  },
  {
   "cell_type": "code",
   "execution_count": 33,
   "id": "c1b7a0bc-5f87-4f0f-b324-b9bd2543d56b",
   "metadata": {},
   "outputs": [
    {
     "data": {
      "text/plain": [
       "NilClass"
      ]
     },
     "execution_count": 33,
     "metadata": {},
     "output_type": "execute_result"
    }
   ],
   "source": [
    "nil.class"
   ]
  },
  {
   "cell_type": "code",
   "execution_count": 32,
   "id": "31d0e96c-6c70-48ff-917c-25ee3dee13fb",
   "metadata": {},
   "outputs": [
    {
     "data": {
      "text/plain": [
       "Array"
      ]
     },
     "execution_count": 32,
     "metadata": {},
     "output_type": "execute_result"
    }
   ],
   "source": [
    "[].class"
   ]
  },
  {
   "cell_type": "code",
   "execution_count": 1,
   "id": "617af334-819a-46ea-9fd9-bf267695e55c",
   "metadata": {},
   "outputs": [
    {
     "name": "stdout",
     "output_type": "stream",
     "text": [
      "3\n",
      "5\n"
     ]
    }
   ],
   "source": [
    "# variable_scope_1.rb\n",
    "\n",
    "x = 5\n",
    "\n",
    "def print_x\n",
    "  x = 3\n",
    "  puts x\n",
    "end\n",
    "\n",
    "print_x\n",
    "puts x"
   ]
  },
  {
   "cell_type": "code",
   "execution_count": 2,
   "id": "59891133-8824-407c-a442-8bfc65a3fe82",
   "metadata": {},
   "outputs": [
    {
     "name": "stdout",
     "output_type": "stream",
     "text": [
      "3\n",
      "3\n"
     ]
    }
   ],
   "source": [
    "# global_variables.rb\n",
    "\n",
    "$x = 5\n",
    "\n",
    "def print_x\n",
    "  $x = 3\n",
    "  puts $x\n",
    "end\n",
    "\n",
    "print_x\n",
    "puts $x"
   ]
  },
  {
   "cell_type": "code",
   "execution_count": 4,
   "id": "3aeaa725-e00a-4cf2-91f1-5ba7ec6e9a98",
   "metadata": {},
   "outputs": [
    {
     "data": {
      "text/plain": [
       "28"
      ]
     },
     "execution_count": 4,
     "metadata": {},
     "output_type": "execute_result"
    }
   ],
   "source": [
    "[1, 2, 3, 4, 5, 6, 7].reduce(:+)"
   ]
  },
  {
   "cell_type": "code",
   "execution_count": 7,
   "id": "0c42c789-a497-4c9c-b19d-d7409abcd1a7",
   "metadata": {},
   "outputs": [
    {
     "data": {
      "text/plain": [
       "[1, 3, 5, 7]"
      ]
     },
     "execution_count": 7,
     "metadata": {},
     "output_type": "execute_result"
    }
   ],
   "source": [
    "[1, 2, 3, 4, 5, 6, 7].filter(&:odd?)"
   ]
  },
  {
   "cell_type": "code",
   "execution_count": 14,
   "id": "e31703c6-701f-4f97-84df-6eca9d963434",
   "metadata": {},
   "outputs": [
    {
     "name": "stdout",
     "output_type": "stream",
     "text": [
      "Area of First square is 16 squnits\n",
      "Perimeter of A Random Square is 20 units\n"
     ]
    },
    {
     "ename": "NoMethodError",
     "evalue": "undefined method `type' for #<#<Class:0x000000010854aa70>::Square:0x000000010c765ea0 @side_length=4, @name=\"First square\", @type=\"algebra\">",
     "output_type": "error",
     "traceback": [
      "\u001b[31mNoMethodError\u001b[0m: undefined method `type' for #<#<Class:0x000000010854aa70>::Square:0x000000010c765ea0 @side_length=4, @name=\"First square\", @type=\"algebra\">",
      "(irb):25:in `<top (required)>'"
     ]
    }
   ],
   "source": [
    "class Square\n",
    "  attr_accessor :side_length\n",
    "  attr_reader :name\n",
    "\n",
    "  def initialize side_length = 0, name = 'A Random Square'\n",
    "    @side_length = side_length\n",
    "    @name = name\n",
    "    @type = 'algebra'\n",
    "  end\n",
    "\n",
    "  def area\n",
    "    side_length * side_length\n",
    "  end\n",
    "\n",
    "  def perimeter\n",
    "    4 * side_length\n",
    "  end\n",
    "end\n",
    "\n",
    "s1 = Square.new 4, 'First square'\n",
    "s2 = Square.new\n",
    "s2.side_length = 5\n",
    "\n",
    "puts \"Area of #{s1.name} is #{s1.area} squnits\"\n",
    "puts \"Perimeter of #{s2.name} is #{s2.perimeter} units\"\n",
    "\n",
    "puts 'type is an unexposed variable'\n",
    "puts s1.type"
   ]
  },
  {
   "cell_type": "code",
   "execution_count": 18,
   "id": "84b2442e-fac2-469c-bfbf-235eb12078aa",
   "metadata": {},
   "outputs": [
    {
     "ename": "NoMethodError",
     "evalue": "undefined method `robot_count' for #<Class:0x000000010854aa70>::Robot",
     "output_type": "error",
     "traceback": [
      "\u001b[31mNoMethodError\u001b[0m: undefined method `robot_count' for #<Class:0x000000010854aa70>::Robot",
      "(irb):12:in `<top (required)>'"
     ]
    }
   ],
   "source": [
    "# this program doesnt work\n",
    "\n",
    "class Robot\n",
    "  def initialize\n",
    "    if defined?(@@robot_count)\n",
    "      @@robot_count += 1\n",
    "    else\n",
    "      @@robot_count = 1\n",
    "    end\n",
    "  end\n",
    "end\n",
    "\n",
    "r1 = Robot.new\n",
    "r2 = Robot.new\n",
    "puts \"Created #{Robot.robot_count} robots\"\n",
    "r3, r4, r5 = Robot.new, Robot.new, Robot.new\n",
    "puts \"Created #{Robot.robot_count} robots\""
   ]
  },
  {
   "cell_type": "code",
   "execution_count": 2,
   "id": "73737250-9859-40ab-a0a5-81919f94b282",
   "metadata": {},
   "outputs": [
    {
     "name": "stdout",
     "output_type": "stream",
     "text": [
      "\"class B\"\n",
      "Class A protected method\n",
      "Class A private method\n",
      "\"class C\"\n",
      "Class A protected method\n",
      "Class A private method\n"
     ]
    }
   ],
   "source": [
    "class A\n",
    "  def public_method\n",
    "    puts \"Class A public method\"\n",
    "  end\n",
    "\n",
    "  private\n",
    "  def private_method\n",
    "    puts \"Class A private method\"\n",
    "  end\n",
    "\n",
    "  protected\n",
    "  def protected_method\n",
    "    puts \"Class A protected method\"\n",
    "  end\n",
    "end\n",
    "\n",
    "class B < A\n",
    "  def get_class_a_protected_method\n",
    "    protected_method # implicit call\n",
    "  end\n",
    "\n",
    "  def get_class_a_private_method\n",
    "    private_method # implicit call\n",
    "  end\n",
    "end\n",
    "\n",
    "class C < A\n",
    "  def get_class_a_protected_method\n",
    "    self.protected_method # explicit call\n",
    "  end\n",
    "\n",
    "  def get_class_a_private_method\n",
    "    self.private_method # explicit call\n",
    "  end\n",
    "end\n",
    "\n",
    "p 'class B'\n",
    "b = B.new\n",
    "b.get_class_a_protected_method\n",
    "b.get_class_a_private_method\n",
    "\n",
    "p 'class C'\n",
    "c = C.new\n",
    "c.get_class_a_protected_method\n",
    "c.get_class_a_private_method"
   ]
  },
  {
   "cell_type": "code",
   "execution_count": 3,
   "id": "46484724-13f6-4948-9f25-86f11f1d477f",
   "metadata": {},
   "outputs": [
    {
     "name": "stdout",
     "output_type": "stream",
     "text": [
      "AAAAAAAAAAAAAAHHHHHHHHHHHHHH\n"
     ]
    }
   ],
   "source": [
    "# function_alias.rb\n",
    "\n",
    "class Something\n",
    "  def make_noise\n",
    "    puts \"AAAAAAAAAAAAAAHHHHHHHHHHHHHH\"\n",
    "  end\n",
    "\n",
    "  alias :shout :make_noise\n",
    "end\n",
    "\n",
    "Something.new.shout"
   ]
  },
  {
   "cell_type": "code",
   "execution_count": 4,
   "id": "b71e497f-6696-4c8f-88e3-5a09190c1285",
   "metadata": {},
   "outputs": [
    {
     "name": "stdout",
     "output_type": "stream",
     "text": [
      "Hi\n",
      "#<Class:0x00000001080ce410>\n"
     ]
    }
   ],
   "source": [
    "# anonymous_class.rb\n",
    "\n",
    "person = Class.new do\n",
    "  def say_hi\n",
    "    'Hi'\n",
    "  end\n",
    "end.new\n",
    "\n",
    "puts person.say_hi\n",
    "puts person.class"
   ]
  },
  {
   "cell_type": "code",
   "execution_count": 7,
   "id": "ec816d6f-c00e-4c23-a76c-6d36d0b721ca",
   "metadata": {},
   "outputs": [
    {
     "ename": "NoMethodError",
     "evalue": "undefined method `class_name' for #<struct name=nil, age=nil>",
     "output_type": "error",
     "traceback": [
      "\u001b[31mNoMethodError\u001b[0m: undefined method `class_name' for #<struct name=nil, age=nil>",
      "(irb):3:in `<top (required)>'"
     ]
    }
   ],
   "source": [
    "person = Struct.new :name, :age\n",
    "p = person.new\n",
    "\n",
    "puts p.class_name\n",
    "\n",
    "p.name = \"Karthik\"\n",
    "p.age = 30\n",
    "\n",
    "puts \"Hello, I am #{p.name}, age #{p.age}\""
   ]
  },
  {
   "cell_type": "code",
   "execution_count": 8,
   "id": "f31db1b3-cc51-4b11-9069-76df54596150",
   "metadata": {},
   "outputs": [
    {
     "name": "stdout",
     "output_type": "stream",
     "text": [
      "Hello, I am Karthik, age 30\n"
     ]
    }
   ],
   "source": [
    "# struct_about_me.rb\n",
    "\n",
    "person = Struct.new :name, :age do\n",
    "  def about_me\n",
    "    \"Hello, I am #{self.name}, age #{self.age}\"\n",
    "  end\n",
    "end\n",
    "p = person.new \"Karthik\", 30\n",
    "puts p.about_me"
   ]
  },
  {
   "cell_type": "markdown",
   "id": "64bafaf0-d033-4f4b-ad28-50e4b2ae28f2",
   "metadata": {},
   "source": [
    "Open Struct is like Struct, but its does not have its data structure or attributes predefined."
   ]
  },
  {
   "cell_type": "code",
   "execution_count": 9,
   "id": "a2c744a3-9fba-4bd2-9dce-31f456418910",
   "metadata": {},
   "outputs": [
    {
     "name": "stdout",
     "output_type": "stream",
     "text": [
      "Hello, I am Karthik, age 30\n"
     ]
    }
   ],
   "source": [
    "require 'ostruct'\n",
    "\n",
    "p = OpenStruct.new\n",
    "p.name = \"Karthik\"\n",
    "p.age = 30\n",
    "puts \"Hello, I am #{p.name}, age #{p.age}\""
   ]
  },
  {
   "cell_type": "code",
   "execution_count": 10,
   "id": "0d488d1e-959a-434d-8fb3-f327419499b0",
   "metadata": {},
   "outputs": [
    {
     "name": "stdout",
     "output_type": "stream",
     "text": [
      "Hello, I am Karthik, age 39, and I am an Engineer\n"
     ]
    }
   ],
   "source": [
    "# open_struct_from_hash.rb\n",
    "\n",
    "require 'ostruct'\n",
    "\n",
    "hash = {\n",
    "  name: \"Karthik\",\n",
    "  age: 39,\n",
    "  profession: \"Engineer\"\n",
    "}\n",
    "\n",
    "p = OpenStruct.new hash\n",
    "puts \"Hello, I am #{p.name}, age #{p.age}, and I am an #{p.profession}\""
   ]
  },
  {
   "cell_type": "markdown",
   "id": "3b771d2a-01d7-453a-b38c-dd4379454fd8",
   "metadata": {},
   "source": [
    "# Design Patterns"
   ]
  },
  {
   "cell_type": "markdown",
   "id": "f274e251-dc6f-4407-b995-9e9e62f09c9c",
   "metadata": {},
   "source": [
    "## Composite \n",
    "- Link https://refactoring.guru/design-patterns/composite\n",
    "\n",
    "Composite is a structural design pattern that allows composing objects into a tree-like structure and work with the it as if it was a singular object.\n",
    "\n",
    "Usage examples: The Composite pattern is pretty common in Ruby code. It’s often used to represent hierarchies of user interface components or the code that works with graphs.\n",
    "\n",
    "Identification: If you have an object tree, and each object of a tree is a part of the same class hierarchy, this is most likely a composite. If methods of these classes delegate the work to child objects of the tree and do it via the base class/interface of the hierarchy, this is definitely a composite."
   ]
  },
  {
   "cell_type": "markdown",
   "id": "9f4b98c6-30f8-45db-b3c0-ea76a56a18f0",
   "metadata": {},
   "source": [
    "## Decorator \n",
    "- Link https://refactoring.guru/design-patterns/decorator/ruby/example\n",
    "\n",
    "Decorator is a structural pattern that allows adding new behaviors to objects dynamically by placing them inside special wrapper objects, called decorators.\n"
   ]
  },
  {
   "cell_type": "markdown",
   "id": "3fde99b0-455e-4913-aa42-aadb5023a444",
   "metadata": {},
   "source": [
    "## Adaper\n",
    "- Link https://refactoring.guru/design-patterns/adapter/ruby/example\n",
    "\n",
    "Adapter is a structural design pattern, which allows incompatible objects to collaborate."
   ]
  },
  {
   "cell_type": "code",
   "execution_count": null,
   "id": "ab622348-e1ff-4285-bb24-68cac0b3f911",
   "metadata": {},
   "outputs": [],
   "source": []
  }
 ],
 "metadata": {
  "kernelspec": {
   "display_name": "Ruby 3.1.1",
   "language": "ruby",
   "name": "ruby"
  },
  "language_info": {
   "file_extension": ".rb",
   "mimetype": "application/x-ruby",
   "name": "ruby",
   "version": "3.1.1"
  }
 },
 "nbformat": 4,
 "nbformat_minor": 5
}
